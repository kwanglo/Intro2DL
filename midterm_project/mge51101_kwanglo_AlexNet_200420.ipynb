{
  "nbformat": 4,
  "nbformat_minor": 0,
  "metadata": {
    "colab": {
      "name": "(Practice)mge51101_kwanglo_AlexNet.ipynb",
      "provenance": [],
      "collapsed_sections": [
        "iSEg_WbxwfX9"
      ],
      "authorship_tag": "ABX9TyO8PffWxa/nqDau+W9UTGFO",
      "include_colab_link": true
    },
    "kernelspec": {
      "name": "python3",
      "display_name": "Python 3"
    },
    "accelerator": "GPU"
  },
  "cells": [
    {
      "cell_type": "markdown",
      "metadata": {
        "id": "view-in-github",
        "colab_type": "text"
      },
      "source": [
        "<a href=\"https://colab.research.google.com/github/kwanglo/mge51101-20195171/blob/master/mge51101_kwanglo_AlexNet_200420.ipynb\" target=\"_parent\"><img src=\"https://colab.research.google.com/assets/colab-badge.svg\" alt=\"Open In Colab\"/></a>"
      ]
    },
    {
      "cell_type": "markdown",
      "metadata": {
        "id": "cfV9DSynwTyl",
        "colab_type": "text"
      },
      "source": [
        "## Skeleton Code for CIFAR dataset"
      ]
    },
    {
      "cell_type": "code",
      "metadata": {
        "id": "DvX-qLOywTaO",
        "colab_type": "code",
        "outputId": "1d17c973-5bc6-46ad-81cc-46b14d418eb8",
        "colab": {
          "base_uri": "https://localhost:8080/",
          "height": 316
        }
      },
      "source": [
        "!nvidia-smi\n",
        "import torch\n",
        "import torch.nn as nn\n",
        "import numpy as np\n",
        "import matplotlib.pyplot as plt\n",
        "print(torch.__version__)"
      ],
      "execution_count": 1,
      "outputs": [
        {
          "output_type": "stream",
          "text": [
            "Mon Apr 20 06:17:26 2020       \n",
            "+-----------------------------------------------------------------------------+\n",
            "| NVIDIA-SMI 440.64.00    Driver Version: 418.67       CUDA Version: 10.1     |\n",
            "|-------------------------------+----------------------+----------------------+\n",
            "| GPU  Name        Persistence-M| Bus-Id        Disp.A | Volatile Uncorr. ECC |\n",
            "| Fan  Temp  Perf  Pwr:Usage/Cap|         Memory-Usage | GPU-Util  Compute M. |\n",
            "|===============================+======================+======================|\n",
            "|   0  Tesla K80           Off  | 00000000:00:04.0 Off |                    0 |\n",
            "| N/A   50C    P8    31W / 149W |      0MiB / 11441MiB |      0%      Default |\n",
            "+-------------------------------+----------------------+----------------------+\n",
            "                                                                               \n",
            "+-----------------------------------------------------------------------------+\n",
            "| Processes:                                                       GPU Memory |\n",
            "|  GPU       PID   Type   Process name                             Usage      |\n",
            "|=============================================================================|\n",
            "|  No running processes found                                                 |\n",
            "+-----------------------------------------------------------------------------+\n",
            "1.4.0\n"
          ],
          "name": "stdout"
        }
      ]
    },
    {
      "cell_type": "markdown",
      "metadata": {
        "id": "iSEg_WbxwfX9",
        "colab_type": "text"
      },
      "source": [
        "## Model - AlexNet"
      ]
    },
    {
      "cell_type": "code",
      "metadata": {
        "id": "CGyIL60jweWM",
        "colab_type": "code",
        "colab": {}
      },
      "source": [
        "class MyCNN(nn.Module):\n",
        "    def __init__(self):\n",
        "        super(MyCNN, self).__init__()\n",
        "        \"\"\"\n",
        "        implement code here\n",
        "        \"\"\"\n",
        "    \n",
        "    def forward(self, inputs):\n",
        "\n",
        "        \"\"\"\n",
        "        implement code here\n",
        "        \"\"\"\n",
        "        return outputs\n",
        "\n",
        "model = MyCNN().cuda()\n",
        "\n",
        "# Loss function & Optimizers\n",
        "\"\"\"\n",
        "you can change the loss and optimizer\n",
        "\"\"\"\n",
        "criterion = torch.nn.CrossEntropyLoss()\n",
        "optimizer = torch.optim.Adam(model.parameters(), lr=0.001, weight_decay=1e-4)\n",
        "\n",
        "\n",
        "# Hyperparameters\n",
        "\"\"\"\n",
        "you can change the value\n",
        "\"\"\"\n",
        "num_epochs = 200\n",
        "batch_size = 128"
      ],
      "execution_count": 0,
      "outputs": []
    },
    {
      "cell_type": "markdown",
      "metadata": {
        "id": "Y7yevVoBxZw-",
        "colab_type": "text"
      },
      "source": [
        "## Practice"
      ]
    },
    {
      "cell_type": "code",
      "metadata": {
        "id": "hZ96B6Xbxb3N",
        "colab_type": "code",
        "colab": {}
      },
      "source": [
        "import torchvision\n",
        "import torchvision.transforms as transforms"
      ],
      "execution_count": 0,
      "outputs": []
    },
    {
      "cell_type": "code",
      "metadata": {
        "id": "R3yKF8BLPvCo",
        "colab_type": "code",
        "colab": {}
      },
      "source": [
        "#Normalize dataset\n",
        "transform_train = transforms.Compose([\n",
        "    transforms.RandomCrop(32, padding=4),\n",
        "    transforms.RandomHorizontalFlip(),\n",
        "    transforms.ToTensor(),\n",
        "    transforms.Normalize((0.4914, 0.4822, 0.4465), (0.2023, 0.1994, 0.2010)),\n",
        "])\n",
        "\n",
        "# Normalize the test set same as training set without augmentation\n",
        "transform_test = transforms.Compose([\n",
        "    transforms.ToTensor(),\n",
        "    transforms.Normalize((0.4914, 0.4822, 0.4465), (0.2023, 0.1994, 0.2010)),\n",
        "])"
      ],
      "execution_count": 0,
      "outputs": []
    },
    {
      "cell_type": "code",
      "metadata": {
        "id": "6nVBZC1yxfc4",
        "colab_type": "code",
        "outputId": "aff510bb-51cf-42c2-e324-590855dd5aec",
        "colab": {
          "base_uri": "https://localhost:8080/",
          "height": 50
        }
      },
      "source": [
        "#Load train and test datset(CIFAR)\n",
        "trainset = torchvision.datasets.CIFAR10(root='./data', train=True,\n",
        "                                        download=True, transform=transform)\n",
        "trainloader = torch.utils.data.DataLoader(trainset, batch_size=4,\n",
        "                                          shuffle=True, num_workers=2)\n",
        "\n",
        "testset = torchvision.datasets.CIFAR10(root='./data', train=False,\n",
        "                                       download=True, transform=transform)\n",
        "testloader = torch.utils.data.DataLoader(testset, batch_size=4,\n",
        "                                         shuffle=False, num_workers=2)\n",
        "\n",
        "classes = ('plane', 'car', 'bird', 'cat',\n",
        "           'deer', 'dog', 'frog', 'horse', 'ship', 'truck')"
      ],
      "execution_count": 7,
      "outputs": [
        {
          "output_type": "stream",
          "text": [
            "Files already downloaded and verified\n",
            "Files already downloaded and verified\n"
          ],
          "name": "stdout"
        }
      ]
    },
    {
      "cell_type": "code",
      "metadata": {
        "id": "aLFREoStxmB5",
        "colab_type": "code",
        "colab": {}
      },
      "source": [
        "import matplotlib.pyplot as plt\n",
        "import numpy as np"
      ],
      "execution_count": 0,
      "outputs": []
    },
    {
      "cell_type": "code",
      "metadata": {
        "id": "5c5IirhTyCkE",
        "colab_type": "code",
        "outputId": "1c4861ce-fad6-4815-e58e-2448e1343b7b",
        "colab": {
          "base_uri": "https://localhost:8080/",
          "height": 154
        }
      },
      "source": [
        "# Show images that we downloaded\n",
        "def imshow(img):\n",
        "    img = img / 2 + 0.5     # unnormalize\n",
        "    npimg = img.numpy()\n",
        "    plt.imshow(np.transpose(npimg, (1, 2, 0)))\n",
        "\n",
        "# Get random images from training set\n",
        "dataiter = iter(trainloader)\n",
        "images, labels = dataiter.next()\n",
        "\n",
        "# Show image\n",
        "imshow(torchvision.utils.make_grid(images))\n",
        "# Show label\n",
        "print(' '.join('%5s' % classes[labels[j]] for j in range(4)))\n",
        "plt.show()"
      ],
      "execution_count": 5,
      "outputs": [
        {
          "output_type": "stream",
          "text": [
            "truck   car horse   car\n"
          ],
          "name": "stdout"
        },
        {
          "output_type": "display_data",
          "data": {
            "image/png": "[encoded data removed]",
            "text/plain": [
              "<Figure size 432x288 with 1 Axes>"
            ]
          },
          "metadata": {
            "tags": [],
            "needs_background": "light"
          }
        }
      ]
    },
    {
      "cell_type": "code",
      "metadata": {
        "id": "tEZ0e_MZBV0h",
        "colab_type": "code",
        "colab": {}
      },
      "source": [
        "'''\n",
        "AlexNet Demo using default parameters\n",
        "'''\n",
        "# Number of classes\n",
        "num_classes = 10\n",
        "\n",
        "# Loss function & Optimizers\n",
        "criterion = torch.nn.CrossEntropyLoss()\n",
        "optimizer = torch.optim.Adam\n",
        "\n",
        "# Hyperparameters\n",
        "num_epochs = 300\n",
        "batch_size = 512\n",
        "learning_rate = 0.001\n",
        "weight_decay = 1e-4\n",
        "\n",
        "class MyCNN(nn.Module):\n",
        "    def __init__(self):\n",
        "        super(MyCNN, self).__init__()\n",
        "        self.features = nn.Sequential(\n",
        "            #Conv1\n",
        "            nn.Conv2d(3, 96, kernel_size=3, stride=2, padding=1),\n",
        "            nn.ReLU(inplace=True),\n",
        "            #MaxPool1\n",
        "            nn.MaxPool2d(kernel_size=2),\n",
        "            #Conv2\n",
        "            nn.Conv2d(96, 256, kernel_size=3, padding=1),\n",
        "            nn.ReLU(inplace=True),\n",
        "            #MaxPool2\n",
        "            nn.MaxPool2d(kernel_size=2),\n",
        "            #Conv3       \n",
        "            nn.Conv2d(256, 384, kernel_size=3, padding=1),\n",
        "            nn.ReLU(inplace=True),\n",
        "            #Conv4       \n",
        "            nn.Conv2d(384, 384, kernel_size=3, padding=1),\n",
        "            nn.ReLU(inplace=True),\n",
        "            #Conv5       \n",
        "            nn.Conv2d(384, 256, kernel_size=3, padding=1),                        \n",
        "            nn.ReLU(inplace=True),\n",
        "            #MaxPool3\n",
        "            nn.MaxPool2d(kernel_size=3, stride = 2)\n",
        "        )\n",
        "        self.classifier = nn.Sequential(\n",
        "                                        nn.Dropout(),\n",
        "                                        #FC6\n",
        "                                        nn.Linear(256, 4096),\n",
        "                                        nn.ReLU(inplace=True),\n",
        "                                        nn.Dropout(),\n",
        "                                        #FC7\n",
        "                                        nn.Linear(4096, 4096),\n",
        "                                        nn.ReLU(inplace=True),\n",
        "                                        #FC8\n",
        "                                        nn.Linear(4096, num_classes)\n",
        "        )        \n",
        "    \n",
        "    def forward(self, inputs):\n",
        "        \n",
        "        hidden = self.features(inputs)\n",
        "        shapes = hidden.size(1) * hidden.size(2) * hidden.size(3)\n",
        "        hidden = hidden.view(hidden.size(0), shapes)\n",
        "        outputs = self.classifier(hidden)\n",
        "        \n",
        "        return outputs\n",
        "\n",
        "model = MyCNN().cuda()\n",
        "\n",
        "# Loss function & Optimizers\n",
        "\"\"\"\n",
        "you can change the loss and optimizer\n",
        "\"\"\"\n",
        "criterion = torch.nn.CrossEntropyLoss()\n",
        "optimizer = torch.optim.Adam(model.parameters(), lr=0.001, weight_decay=1e-4)\n",
        "\n",
        "\n",
        "# Hyperparameters\n",
        "\"\"\"\n",
        "you can change the value\n",
        "\"\"\"\n",
        "num_epochs = 200\n",
        "batch_size = 128"
      ],
      "execution_count": 0,
      "outputs": []
    },
    {
      "cell_type": "code",
      "metadata": {
        "id": "laiXIdpQVBTx",
        "colab_type": "code",
        "colab": {}
      },
      "source": [
        ""
      ],
      "execution_count": 0,
      "outputs": []
    },
    {
      "cell_type": "markdown",
      "metadata": {
        "id": "PrAnCb37wtr1",
        "colab_type": "text"
      },
      "source": [
        "## Training"
      ]
    },
    {
      "cell_type": "code",
      "metadata": {
        "id": "YZUKMwXPwr8t",
        "colab_type": "code",
        "colab": {
          "base_uri": "https://localhost:8080/",
          "height": 1000
        },
        "outputId": "acdbb00a-fa30-47e7-ad3f-bff63a254db8"
      },
      "source": [
        "import sys\n",
        "sys.path.insert(0, \"..\")\n",
        "from torch.utils.data import DataLoader\n",
        "import torchvision\n",
        "import torchvision.transforms as transforms\n",
        "\n",
        "# CIFAR preprocessing \n",
        "transform_train = transforms.Compose([\n",
        "    transforms.RandomCrop(32, padding=4),    \n",
        "    transforms.RandomHorizontalFlip(),\n",
        "    transforms.ToTensor(),\n",
        "    transforms.Normalize((0.4914, 0.4822, 0.4465), (0.2023, 0.1994, 0.2010)),\n",
        "])\n",
        "\n",
        "transform_test = transforms.Compose([\n",
        "    transforms.ToTensor(),\n",
        "    transforms.Normalize((0.4914, 0.4822, 0.4465), (0.2023, 0.1994, 0.2010)),\n",
        "])\n",
        "\n",
        "# DataLoader for CIFAR-10\n",
        "cifar_train = torchvision.datasets.CIFAR10(root=\"./\", \n",
        "                                         train=True, \n",
        "                                         download=True,\n",
        "                                         transform=transform_train\n",
        "                                         )\n",
        "cifar_test = torchvision.datasets.CIFAR10(root=\"./\", \n",
        "                                        train=False, \n",
        "                                        download=True,\n",
        "                                        transform=transform_test)\n",
        "\n",
        "\n",
        "train_loader = DataLoader(cifar_train, batch_size=batch_size, shuffle=True, num_workers=4)\n",
        "test_loader = DataLoader(cifar_test, batch_size=batch_size, shuffle=False, num_workers=4)\n",
        "\n",
        " \n",
        "accuracy_graph = {'train':[], 'test':[], 'epoch': []}\n",
        "loss_graph = {'train':[], 'test':[], 'epoch': []}\n",
        "\n",
        "class accumulator():\n",
        "    def __init__(self):\n",
        "        self.cnt = 0\n",
        "        self.obs = 0\n",
        "        self.loss = 0\n",
        "\n",
        "    def add(self, predict, output):\n",
        "\n",
        "        assert len(predict) == len(output)\n",
        "\n",
        "        self.cnt += self.count(predict, output).cpu().numpy()\n",
        "        self.obs += len(predict)\n",
        "    \n",
        "    def count(self, predict, output):\n",
        "        correct = torch.sum(torch.argmax(predict, dim=1) == output)\n",
        "        \n",
        "        return correct\n",
        "        \n",
        "    def loss_update(self, loss, batch_size):\n",
        "        self.loss += loss * batch_size\n",
        "\n",
        "    def running_stat(self):\n",
        "        if self.obs != 0:\n",
        "            run_acc = 100 * self.cnt / self.obs\n",
        "            run_loss = self.loss / self.obs\n",
        "        else: \n",
        "            run_acc = 0\n",
        "            rum_loss = 0\n",
        "\n",
        "        return run_acc, run_loss\n",
        "\n",
        "    def reset(self):\n",
        "        self.__init__()\n",
        "\n",
        "\n",
        "for epoch in range(num_epochs):\n",
        "\n",
        "    train_accuracy = accumulator()\n",
        "    test_accuracy = accumulator()\n",
        "\n",
        "    # Training\n",
        "    for train_x, train_y in train_loader: \n",
        "\n",
        "        train_x, train_y = train_x.cuda(), train_y.cuda()\n",
        "        train_predict = model(train_x)\n",
        "        loss = criterion(train_predict, train_y)\n",
        "\n",
        "        # Backpropagation        \n",
        "        optimizer.zero_grad()\n",
        "        loss.backward()\n",
        "        optimizer.step()\n",
        "\n",
        "        train_accuracy.add(train_predict, train_y)\n",
        "        train_accuracy.loss_update(loss, batch_size)\n",
        "\n",
        "    # Evaluation\n",
        "    if epoch % 10 ==0:\n",
        "             \n",
        "        for test_x, test_y in test_loader:\n",
        "\n",
        "            with torch.autograd.no_grad():\n",
        "                test_x, test_y = test_x.cuda(), test_y.cuda()\n",
        "                test_predict = model(test_x)\n",
        "                test_accuracy.add(test_predict, test_y)\n",
        "\n",
        "            loss_test = criterion(test_predict, test_y)\n",
        "            test_accuracy.loss_update(loss_test, batch_size)\n",
        "\n",
        "        train_acc, train_loss = train_accuracy.running_stat()\n",
        "        test_acc, test_loss = test_accuracy.running_stat()\n",
        "        accuracy_graph['train'].append(train_acc)\n",
        "        accuracy_graph['test'].append(test_acc) \n",
        "        accuracy_graph['epoch'].append(epoch)\n",
        "        loss_graph['train'].append(train_loss)\n",
        "        loss_graph['test'].append(test_loss)\n",
        "        loss_graph['epoch'].append(epoch)\n",
        "        \n",
        "        print(\"\\ntrain accuracy: {:.2f} %, test accuracy: {:.2f} %\".format(train_acc, test_acc))\n",
        "        print(\"epoch:{}, train_loss: {:.4f}, test_loss: {:.4f}\".format(epoch+1, train_loss, test_loss)) \n",
        "\n",
        "        train_accuracy.reset(), test_accuracy.reset()\n",
        "\n",
        "\n",
        "plt.plot(accuracy_graph['epoch'], accuracy_graph['train'], label = \"train accuracy\");\n",
        "plt.plot(accuracy_graph['epoch'], accuracy_graph['test'], label = \"test_accuracy\");\n",
        "plt.legend()\n",
        "plt.xlabel(\"epoch\")\n",
        "plt.ylabel(\"accuracy\")\n",
        "plt.show()\n",
        "\n",
        "plot_loss_train = plt.plot(loss_graph['epoch'], loss_graph['train'], label=\"train loss\");\n",
        "plt.plot(loss_graph['epoch'], loss_graph['test'], label=\"test loss\");\n",
        "plt.legend()\n",
        "plt.xlabel(\"epoch\")\n",
        "plt.ylabel(\"loss\")\n",
        "plt.show()"
      ],
      "execution_count": 20,
      "outputs": [
        {
          "output_type": "stream",
          "text": [
            "Files already downloaded and verified\n",
            "Files already downloaded and verified\n",
            "\n",
            "train accuracy: 71.98 %, test accuracy: 72.01 %\n",
            "epoch:1, train_loss: 0.8337, test_loss: 0.8526\n",
            "\n",
            "train accuracy: 74.93 %, test accuracy: 73.70 %\n",
            "epoch:11, train_loss: 0.7366, test_loss: 0.8020\n",
            "\n",
            "train accuracy: 77.08 %, test accuracy: 75.45 %\n",
            "epoch:21, train_loss: 0.6860, test_loss: 0.7537\n",
            "\n",
            "train accuracy: 78.19 %, test accuracy: 76.74 %\n",
            "epoch:31, train_loss: 0.6494, test_loss: 0.7226\n",
            "\n",
            "train accuracy: 79.03 %, test accuracy: 74.79 %\n",
            "epoch:41, train_loss: 0.6256, test_loss: 0.7877\n",
            "\n",
            "train accuracy: 79.90 %, test accuracy: 77.52 %\n",
            "epoch:51, train_loss: 0.6017, test_loss: 0.7071\n",
            "\n",
            "train accuracy: 80.16 %, test accuracy: 77.48 %\n",
            "epoch:61, train_loss: 0.5884, test_loss: 0.7004\n",
            "\n",
            "train accuracy: 81.09 %, test accuracy: 77.51 %\n",
            "epoch:71, train_loss: 0.5672, test_loss: 0.7026\n",
            "\n",
            "train accuracy: 81.50 %, test accuracy: 78.07 %\n",
            "epoch:81, train_loss: 0.5556, test_loss: 0.6866\n",
            "\n",
            "train accuracy: 81.66 %, test accuracy: 78.86 %\n",
            "epoch:91, train_loss: 0.5485, test_loss: 0.6885\n",
            "\n",
            "train accuracy: 82.34 %, test accuracy: 79.15 %\n",
            "epoch:101, train_loss: 0.5317, test_loss: 0.6734\n",
            "\n",
            "train accuracy: 82.35 %, test accuracy: 78.67 %\n",
            "epoch:111, train_loss: 0.5318, test_loss: 0.6837\n",
            "\n",
            "train accuracy: 82.65 %, test accuracy: 79.17 %\n",
            "epoch:121, train_loss: 0.5224, test_loss: 0.6477\n",
            "\n",
            "train accuracy: 82.66 %, test accuracy: 79.18 %\n",
            "epoch:131, train_loss: 0.5199, test_loss: 0.6716\n",
            "\n",
            "train accuracy: 83.43 %, test accuracy: 78.96 %\n",
            "epoch:141, train_loss: 0.4973, test_loss: 0.6779\n",
            "\n",
            "train accuracy: 83.12 %, test accuracy: 78.46 %\n",
            "epoch:151, train_loss: 0.5058, test_loss: 0.6637\n",
            "\n",
            "train accuracy: 83.50 %, test accuracy: 77.56 %\n",
            "epoch:161, train_loss: 0.4948, test_loss: 0.7132\n",
            "\n",
            "train accuracy: 83.81 %, test accuracy: 79.27 %\n",
            "epoch:171, train_loss: 0.4892, test_loss: 0.6792\n",
            "\n",
            "train accuracy: 83.73 %, test accuracy: 78.82 %\n",
            "epoch:181, train_loss: 0.4891, test_loss: 0.6692\n",
            "\n",
            "train accuracy: 83.93 %, test accuracy: 78.66 %\n",
            "epoch:191, train_loss: 0.4827, test_loss: 0.6957\n"
          ],
          "name": "stdout"
        },
        {
          "output_type": "display_data",
          "data": {
            "image/png": "[encoded data removed]",
            "text/plain": [
              "<Figure size 432x288 with 1 Axes>"
            ]
          },
          "metadata": {
            "tags": [],
            "needs_background": "light"
          }
        },
        {
          "output_type": "display_data",
          "data": {
            "image/png": "[encoded data removed]",
            "text/plain": [
              "<Figure size 432x288 with 1 Axes>"
            ]
          },
          "metadata": {
            "tags": [],
            "needs_background": "light"
          }
        }
      ]
    },
    {
      "cell_type": "code",
      "metadata": {
        "id": "WvzPZ3ZziW6S",
        "colab_type": "code",
        "colab": {}
      },
      "source": [
        "#"
      ],
      "execution_count": 0,
      "outputs": []
    }
  ]
}
