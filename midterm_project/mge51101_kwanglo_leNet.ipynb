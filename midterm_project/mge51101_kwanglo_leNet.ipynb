{
  "nbformat": 4,
  "nbformat_minor": 0,
  "metadata": {
    "colab": {
      "name": "mge51101_kwanglo_leNet.ipynb",
      "provenance": [],
      "collapsed_sections": [],
      "authorship_tag": "ABX9TyMVsf+Kzt6AQI96jfHXyJIZ",
      "include_colab_link": true
    },
    "kernelspec": {
      "name": "python3",
      "display_name": "Python 3"
    },
    "accelerator": "GPU"
  },
  "cells": [
    {
      "cell_type": "markdown",
      "metadata": {
        "id": "view-in-github",
        "colab_type": "text"
      },
      "source": [
        "<a href=\"https://colab.research.google.com/github/kwanglo/mge51101-20195171/blob/master/mge51101_kwanglo_leNet.ipynb\" target=\"_parent\"><img src=\"https://colab.research.google.com/assets/colab-badge.svg\" alt=\"Open In Colab\"/></a>"
      ]
    },
    {
      "cell_type": "markdown",
      "metadata": {
        "id": "cfV9DSynwTyl",
        "colab_type": "text"
      },
      "source": [
        "## Skeleton Code for CIFAR dataset"
      ]
    },
    {
      "cell_type": "code",
      "metadata": {
        "id": "DvX-qLOywTaO",
        "colab_type": "code",
        "outputId": "2a3d2a97-8098-4be3-8af7-b83f146efe8c",
        "colab": {
          "base_uri": "https://localhost:8080/",
          "height": 300
        }
      },
      "source": [
        "!nvidia-smi\n",
        "import torch\n",
        "import torch.nn as nn\n",
        "import numpy as np\n",
        "import matplotlib.pyplot as plt\n",
        "print(torch.__version__)"
      ],
      "execution_count": 12,
      "outputs": [
        {
          "output_type": "stream",
          "text": [
            "Mon Apr 20 05:09:03 2020       \n",
            "+-----------------------------------------------------------------------------+\n",
            "| NVIDIA-SMI 440.64.00    Driver Version: 418.67       CUDA Version: 10.1     |\n",
            "|-------------------------------+----------------------+----------------------+\n",
            "| GPU  Name        Persistence-M| Bus-Id        Disp.A | Volatile Uncorr. ECC |\n",
            "| Fan  Temp  Perf  Pwr:Usage/Cap|         Memory-Usage | GPU-Util  Compute M. |\n",
            "|===============================+======================+======================|\n",
            "|   0  Tesla P100-PCIE...  Off  | 00000000:00:04.0 Off |                    0 |\n",
            "| N/A   38C    P0    33W / 250W |    739MiB / 16280MiB |      0%      Default |\n",
            "+-------------------------------+----------------------+----------------------+\n",
            "                                                                               \n",
            "+-----------------------------------------------------------------------------+\n",
            "| Processes:                                                       GPU Memory |\n",
            "|  GPU       PID   Type   Process name                             Usage      |\n",
            "|=============================================================================|\n",
            "+-----------------------------------------------------------------------------+\n",
            "1.4.0\n"
          ],
          "name": "stdout"
        }
      ]
    },
    {
      "cell_type": "markdown",
      "metadata": {
        "id": "iSEg_WbxwfX9",
        "colab_type": "text"
      },
      "source": [
        "## Model - LeNet"
      ]
    },
    {
      "cell_type": "code",
      "metadata": {
        "id": "CGyIL60jweWM",
        "colab_type": "code",
        "colab": {}
      },
      "source": [
        "#Model Code for LeNet\n",
        "import torch.nn.functional as F\n",
        "\n",
        "class MyCNN(nn.Module):\n",
        "    def __init__(self):\n",
        "        super(MyCNN, self).__init__()\n",
        "        #Model Based on LeNet5 \n",
        "        self.conv1 = nn.Conv2d(3, 6, 5) # input channels, output channels, kernel size\n",
        "        self.pool = nn.MaxPool2d(2, 2)  # kernel size, stride, padding = 0 (default)\n",
        "        self.conv2 = nn.Conv2d(6, 16, 5)\n",
        "        self.fc1 = nn.Linear(16 * 5 * 5, 120) # input features, output features\n",
        "        self.fc2 = nn.Linear(120, 84)\n",
        "        self.fc3 = nn.Linear(84, 10)\n",
        "    \n",
        "    def forward(self, inputs):\n",
        "        inputs= self.pool(F.relu(self.conv1(inputs)))\n",
        "        inputs = self.pool(F.relu(self.conv2(inputs)))\n",
        "        inputs = inputs.view(-1, 16 * 5 * 5)\n",
        "        inputs = F.relu(self.fc1(inputs))\n",
        "        inputs = F.relu(self.fc2(inputs))\n",
        "        outputs = self.fc3(inputs)        \n",
        "        \n",
        "        return outputs\n",
        "\n",
        "model = MyCNN().cuda()\n",
        "\n",
        "# Loss function & Optimizers\n",
        "\"\"\"\n",
        "you can change the loss and optimizer\n",
        "\"\"\"\n",
        "criterion = torch.nn.CrossEntropyLoss()\n",
        "optimizer = torch.optim.Adam(model.parameters(), lr=0.001, weight_decay=1e-4)\n",
        "\n",
        "\n",
        "# Hyperparameters\n",
        "\"\"\"\n",
        "you can change the value\n",
        "\"\"\"\n",
        "num_epochs = 200\n",
        "batch_size = 128"
      ],
      "execution_count": 0,
      "outputs": []
    },
    {
      "cell_type": "markdown",
      "metadata": {
        "id": "PrAnCb37wtr1",
        "colab_type": "text"
      },
      "source": [
        "## Training"
      ]
    },
    {
      "cell_type": "code",
      "metadata": {
        "id": "YZUKMwXPwr8t",
        "colab_type": "code",
        "outputId": "b0086689-9491-40f4-d2f0-cb10faf3ef7a",
        "colab": {
          "base_uri": "https://localhost:8080/",
          "height": 1000
        }
      },
      "source": [
        "import sys\n",
        "sys.path.insert(0, \"..\")\n",
        "from torch.utils.data import DataLoader\n",
        "import torchvision\n",
        "import torchvision.transforms as transforms\n",
        "\n",
        "# CIFAR preprocessing \n",
        "transform_train = transforms.Compose([\n",
        "    transforms.RandomCrop(32, padding=4),\n",
        "    transforms.RandomHorizontalFlip(),\n",
        "    transforms.ToTensor(),\n",
        "    transforms.Normalize((0.4914, 0.4822, 0.4465), (0.2023, 0.1994, 0.2010)),\n",
        "])\n",
        "\n",
        "transform_test = transforms.Compose([\n",
        "    transforms.ToTensor(),\n",
        "    transforms.Normalize((0.4914, 0.4822, 0.4465), (0.2023, 0.1994, 0.2010)),\n",
        "])\n",
        "\n",
        "# DataLoader for CIFAR-10\n",
        "cifar_train = torchvision.datasets.CIFAR10(root=\"./\", \n",
        "                                         train=True, \n",
        "                                         download=True,\n",
        "                                         transform=transform_train\n",
        "                                         )\n",
        "cifar_test = torchvision.datasets.CIFAR10(root=\"./\", \n",
        "                                        train=False, \n",
        "                                        download=True,\n",
        "                                        transform=transform_test)\n",
        "\n",
        "\n",
        "train_loader = DataLoader(cifar_train, batch_size=batch_size, shuffle=True, num_workers=4)\n",
        "test_loader = DataLoader(cifar_test, batch_size=batch_size, shuffle=False, num_workers=4)\n",
        "\n",
        " \n",
        "accuracy_graph = {'train':[], 'test':[], 'epoch': []}\n",
        "loss_graph = {'train':[], 'test':[], 'epoch': []}\n",
        "\n",
        "class accumulator():\n",
        "    def __init__(self):\n",
        "        self.cnt = 0\n",
        "        self.obs = 0\n",
        "        self.loss = 0\n",
        "\n",
        "    def add(self, predict, output):\n",
        "\n",
        "        assert len(predict) == len(output)\n",
        "\n",
        "        self.cnt += self.count(predict, output).cpu().numpy()\n",
        "        self.obs += len(predict)\n",
        "    \n",
        "    def count(self, predict, output):\n",
        "        correct = torch.sum(torch.argmax(predict, dim=1) == output)\n",
        "        \n",
        "        return correct\n",
        "        \n",
        "    def loss_update(self, loss, batch_size):\n",
        "        self.loss += loss * batch_size\n",
        "\n",
        "    def running_stat(self):\n",
        "        if self.obs != 0:\n",
        "            run_acc = 100 * self.cnt / self.obs\n",
        "            run_loss = self.loss / self.obs\n",
        "        else: \n",
        "            run_acc = 0\n",
        "            rum_loss = 0\n",
        "\n",
        "        return run_acc, run_loss\n",
        "\n",
        "    def reset(self):\n",
        "        self.__init__()\n",
        "\n",
        "\n",
        "for epoch in range(num_epochs):\n",
        "\n",
        "    train_accuracy = accumulator()\n",
        "    test_accuracy = accumulator()\n",
        "\n",
        "    # Training\n",
        "    for train_x, train_y in train_loader: \n",
        "\n",
        "        train_x, train_y = train_x.cuda(), train_y.cuda()\n",
        "        train_predict = model(train_x)\n",
        "        loss = criterion(train_predict, train_y)\n",
        "\n",
        "        # Backpropagation        \n",
        "        optimizer.zero_grad()\n",
        "        loss.backward()\n",
        "        optimizer.step()\n",
        "\n",
        "        train_accuracy.add(train_predict, train_y)\n",
        "        train_accuracy.loss_update(loss, batch_size)\n",
        "\n",
        "    # Evaluation\n",
        "    if epoch % 10 ==0:\n",
        "             \n",
        "        for test_x, test_y in test_loader:\n",
        "\n",
        "            with torch.autograd.no_grad():\n",
        "                test_x, test_y = test_x.cuda(), test_y.cuda()\n",
        "                test_predict = model(test_x)\n",
        "                test_accuracy.add(test_predict, test_y)\n",
        "\n",
        "            loss_test = criterion(test_predict, test_y)\n",
        "            test_accuracy.loss_update(loss_test, batch_size)\n",
        "\n",
        "        train_acc, train_loss = train_accuracy.running_stat()\n",
        "        test_acc, test_loss = test_accuracy.running_stat()\n",
        "        accuracy_graph['train'].append(train_acc)\n",
        "        accuracy_graph['test'].append(test_acc) \n",
        "        accuracy_graph['epoch'].append(epoch)\n",
        "        loss_graph['train'].append(train_loss)\n",
        "        loss_graph['test'].append(test_loss)\n",
        "        loss_graph['epoch'].append(epoch)\n",
        "        \n",
        "        print(\"\\ntrain accuracy: {:.2f} %, test accuracy: {:.2f} %\".format(train_acc, test_acc))\n",
        "        print(\"epoch:{}, train_loss: {:.4f}, test_loss: {:.4f}\".format(epoch+1, train_loss, test_loss)) \n",
        "\n",
        "        train_accuracy.reset(), test_accuracy.reset()\n",
        "\n",
        "\n",
        "plt.plot(accuracy_graph['epoch'], accuracy_graph['train'], label = \"train accuracy\");\n",
        "plt.plot(accuracy_graph['epoch'], accuracy_graph['test'], label = \"test_accuracy\");\n",
        "plt.legend()\n",
        "plt.xlabel(\"epoch\")\n",
        "plt.ylabel(\"accuracy\")\n",
        "plt.show()\n",
        "\n",
        "plot_loss_train = plt.plot(loss_graph['epoch'], loss_graph['train'], label=\"train loss\");\n",
        "plt.plot(loss_graph['epoch'], loss_graph['test'], label=\"test loss\");\n",
        "plt.legend()\n",
        "plt.xlabel(\"epoch\")\n",
        "plt.ylabel(\"loss\")\n",
        "plt.show()"
      ],
      "execution_count": 17,
      "outputs": [
        {
          "output_type": "stream",
          "text": [
            "Files already downloaded and verified\n",
            "Files already downloaded and verified\n",
            "\n",
            "train accuracy: 34.84 %, test accuracy: 45.78 %\n",
            "epoch:1, train_loss: 1.7711, test_loss: 1.5163\n",
            "\n",
            "train accuracy: 59.52 %, test accuracy: 62.68 %\n",
            "epoch:11, train_loss: 1.1455, test_loss: 1.0733\n",
            "\n",
            "train accuracy: 63.41 %, test accuracy: 65.45 %\n",
            "epoch:21, train_loss: 1.0357, test_loss: 0.9964\n",
            "\n",
            "train accuracy: 65.85 %, test accuracy: 67.13 %\n",
            "epoch:31, train_loss: 0.9677, test_loss: 0.9477\n",
            "\n",
            "train accuracy: 67.23 %, test accuracy: 69.95 %\n",
            "epoch:41, train_loss: 0.9308, test_loss: 0.8770\n",
            "\n",
            "train accuracy: 67.97 %, test accuracy: 70.09 %\n",
            "epoch:51, train_loss: 0.9022, test_loss: 0.8760\n",
            "\n",
            "train accuracy: 69.08 %, test accuracy: 70.98 %\n",
            "epoch:61, train_loss: 0.8812, test_loss: 0.8458\n",
            "\n",
            "train accuracy: 69.82 %, test accuracy: 72.03 %\n",
            "epoch:71, train_loss: 0.8565, test_loss: 0.8329\n",
            "\n",
            "train accuracy: 70.03 %, test accuracy: 72.06 %\n",
            "epoch:81, train_loss: 0.8533, test_loss: 0.8186\n",
            "\n",
            "train accuracy: 70.67 %, test accuracy: 72.14 %\n",
            "epoch:91, train_loss: 0.8365, test_loss: 0.8021\n",
            "\n",
            "train accuracy: 71.06 %, test accuracy: 72.45 %\n",
            "epoch:101, train_loss: 0.8330, test_loss: 0.7986\n",
            "\n",
            "train accuracy: 71.07 %, test accuracy: 72.52 %\n",
            "epoch:111, train_loss: 0.8232, test_loss: 0.8021\n",
            "\n",
            "train accuracy: 71.44 %, test accuracy: 72.18 %\n",
            "epoch:121, train_loss: 0.8094, test_loss: 0.8157\n",
            "\n",
            "train accuracy: 71.58 %, test accuracy: 72.39 %\n",
            "epoch:131, train_loss: 0.8064, test_loss: 0.8056\n",
            "\n",
            "train accuracy: 72.06 %, test accuracy: 72.41 %\n",
            "epoch:141, train_loss: 0.8003, test_loss: 0.8146\n",
            "\n",
            "train accuracy: 71.70 %, test accuracy: 73.64 %\n",
            "epoch:151, train_loss: 0.8039, test_loss: 0.7767\n",
            "\n",
            "train accuracy: 72.24 %, test accuracy: 73.43 %\n",
            "epoch:161, train_loss: 0.7913, test_loss: 0.7773\n",
            "\n",
            "train accuracy: 72.31 %, test accuracy: 73.39 %\n",
            "epoch:171, train_loss: 0.7904, test_loss: 0.7836\n",
            "\n",
            "train accuracy: 72.61 %, test accuracy: 72.93 %\n",
            "epoch:181, train_loss: 0.7804, test_loss: 0.7860\n",
            "\n",
            "train accuracy: 72.38 %, test accuracy: 73.03 %\n",
            "epoch:191, train_loss: 0.7870, test_loss: 0.7908\n"
          ],
          "name": "stdout"
        },
        {
          "output_type": "display_data",
          "data": {
            "image/png": "[encoded data removed]",
            "text/plain": [
              "<Figure size 432x288 with 1 Axes>"
            ]
          },
          "metadata": {
            "tags": [],
            "needs_background": "light"
          }
        },
        {
          "output_type": "display_data",
          "data": {
            "image/png": "[encoded data removed]",
            "text/plain": [
              "<Figure size 432x288 with 1 Axes>"
            ]
          },
          "metadata": {
            "tags": [],
            "needs_background": "light"
          }
        }
      ]
    }
  ]
}
