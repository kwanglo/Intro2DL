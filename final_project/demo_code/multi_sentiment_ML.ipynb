{
  "nbformat": 4,
  "nbformat_minor": 0,
  "metadata": {
    "colab": {
      "name": "multi_sentiment_ML.ipynb",
      "provenance": [],
      "collapsed_sections": [
        "9e-egs76dFge"
      ],
      "authorship_tag": "ABX9TyNnvtRYQhht10S9rM3f0uaK",
      "include_colab_link": true
    },
    "kernelspec": {
      "name": "python3",
      "display_name": "Python 3"
    },
    "accelerator": "GPU"
  },
  "cells": [
    {
      "cell_type": "markdown",
      "metadata": {
        "id": "view-in-github",
        "colab_type": "text"
      },
      "source": [
        "<a href=\"https://colab.research.google.com/github/kwanglo/mge51101-20195171/blob/master/final_project/multi_sentiment_ML.ipynb\" target=\"_parent\"><img src=\"https://colab.research.google.com/assets/colab-badge.svg\" alt=\"Open In Colab\"/></a>"
      ]
    },
    {
      "cell_type": "code",
      "metadata": {
        "id": "ZJllN6PPbbsd",
        "colab_type": "code",
        "outputId": "38293ba1-972e-48b5-c66e-6d297d02f22d",
        "colab": {
          "base_uri": "https://localhost:8080/",
          "height": 120
        }
      },
      "source": [
        "from google.colab import drive\n",
        "drive.mount('/gdrive', force_remount=True)"
      ],
      "execution_count": 0,
      "outputs": [
        {
          "output_type": "stream",
          "text": [
            "Go to this URL in a browser: https://accounts.google.com/o/oauth2/auth?client_id=947318989803-6bn6qk8qdgf4n4g3pfee6491hc0brc4i.apps.googleusercontent.com&redirect_uri=urn%3aietf%3awg%3aoauth%3a2.0%3aoob&response_type=code&scope=email%20https%3a%2f%2fwww.googleapis.com%2fauth%2fdocs.test%20https%3a%2f%2fwww.googleapis.com%2fauth%2fdrive%20https%3a%2f%2fwww.googleapis.com%2fauth%2fdrive.photos.readonly%20https%3a%2f%2fwww.googleapis.com%2fauth%2fpeopleapi.readonly\n",
            "\n",
            "Enter your authorization code:\n",
            "··········\n",
            "Mounted at /gdrive\n"
          ],
          "name": "stdout"
        }
      ]
    },
    {
      "cell_type": "code",
      "metadata": {
        "id": "G7bmi66KcFd8",
        "colab_type": "code",
        "colab": {}
      },
      "source": [
        "!pip3 install konlpy\n",
        "!pip3 install soynlp"
      ],
      "execution_count": 0,
      "outputs": []
    },
    {
      "cell_type": "code",
      "metadata": {
        "id": "7DtpkGxMciP6",
        "colab_type": "code",
        "colab": {}
      },
      "source": [
        "import os\n",
        "import re\n",
        "\n",
        "from sklearn import datasets, model_selection\n",
        "from sklearn.feature_extraction.text import CountVectorizer\n",
        "from sklearn.feature_extraction.text import TfidfVectorizer\n",
        "\n",
        "from konlpy.tag import Hannanum\n",
        "from konlpy.tag import Kkma\n",
        "from konlpy.tag import Twitter\n",
        "\n",
        "import pandas as pd\n",
        "import numpy as np"
      ],
      "execution_count": 0,
      "outputs": []
    },
    {
      "cell_type": "markdown",
      "metadata": {
        "id": "9e-egs76dFge",
        "colab_type": "text"
      },
      "source": [
        "# Data preprocessing"
      ]
    },
    {
      "cell_type": "code",
      "metadata": {
        "id": "n2GhMsb-ckwi",
        "colab_type": "code",
        "colab": {}
      },
      "source": [
        "path='/gdrive/My Drive/Colab Notebooks/Final Project/dataset/'\n",
        "df = pd.read_excel(path+\"한국어_단발성_대화_데이터셋.xlsx\")"
      ],
      "execution_count": 0,
      "outputs": []
    },
    {
      "cell_type": "code",
      "metadata": {
        "id": "vqQYxRo6coeB",
        "colab_type": "code",
        "colab": {}
      },
      "source": [
        "df = df.drop(columns=['Unnamed: 2','Unnamed: 3','Unnamed: 4','공포',5468])"
      ],
      "execution_count": 0,
      "outputs": []
    },
    {
      "cell_type": "code",
      "metadata": {
        "id": "4vQ-SFCRctjS",
        "colab_type": "code",
        "colab": {}
      },
      "source": [
        "# Char to int\n",
        "df.loc[(df.Emotion == \"중립\"),\"Emotion\"] = 0\n",
        "df.loc[(df.Emotion == \"공포\"),\"Emotion\"] = 1\n",
        "df.loc[(df.Emotion == \"놀람\"),\"Emotion\"] = 2\n",
        "df.loc[(df.Emotion == \"분노\"),\"Emotion\"] = 3\n",
        "df.loc[(df.Emotion == \"슬픔\"),\"Emotion\"] = 4\n",
        "df.loc[(df.Emotion == \"행복\"),\"Emotion\"] = 5\n",
        "df.loc[(df.Emotion == \"혐오\"),\"Emotion\"] = 6"
      ],
      "execution_count": 0,
      "outputs": []
    },
    {
      "cell_type": "code",
      "metadata": {
        "id": "2q92JedIcy_V",
        "colab_type": "code",
        "colab": {}
      },
      "source": [
        "data = df"
      ],
      "execution_count": 0,
      "outputs": []
    },
    {
      "cell_type": "code",
      "metadata": {
        "id": "8FnF2Wepcuvq",
        "colab_type": "code",
        "colab": {}
      },
      "source": [
        "# 숫자로 이미지 나눌때 \n",
        "#중립\n",
        "Neutral = data[data[\"Emotion\"] == 0]\n",
        "#공포\n",
        "Fear = data[data[\"Emotion\"] == 1]\n",
        "Fear.head()\n",
        "#놀람\n",
        "Surprise = data[data[\"Emotion\"] == 2]\n",
        "#분노\n",
        "Anger = data[data[\"Emotion\"] == 3]\n",
        "#슬픔\n",
        "Sad = data[data[\"Emotion\"] == 4]\n",
        "#행복\n",
        "Happy = data[data[\"Emotion\"] == 5]\n",
        "#혐오\n",
        "Disgust = data[data[\"Emotion\"] == 6]"
      ],
      "execution_count": 0,
      "outputs": []
    },
    {
      "cell_type": "code",
      "metadata": {
        "id": "3bTtgGnecxCa",
        "colab_type": "code",
        "colab": {}
      },
      "source": [
        "rnd_num = 2020\n",
        "Fear_train = Fear.sample(frac=0.7, random_state=rnd_num)\n",
        "Fear_test = Fear.drop(Fear_train.index)\n",
        "\n",
        "Surprise_train = Surprise.sample(frac=0.7, random_state=rnd_num)\n",
        "Surprise_test = Surprise.drop(Surprise_train.index)\n",
        "\n",
        "Anger_train = Anger.sample(frac=0.7, random_state=rnd_num)\n",
        "Anger_test = Anger.drop(Anger_train.index)\n",
        "\n",
        "Sad_train = Sad.sample(frac=0.7, random_state=rnd_num)\n",
        "Sad_test = Sad.drop(Sad_train.index)\n",
        "\n",
        "Neutral_train = Neutral.sample(frac=0.7, random_state=rnd_num)\n",
        "Neutral_test = Neutral.drop(Neutral_train.index)\n",
        "\n",
        "Happy_train = Happy.sample(frac=0.7, random_state=rnd_num)\n",
        "Happy_test = Happy.drop(Happy_train.index)\n",
        "\n",
        "Disgust_train = Disgust.sample(frac=0.7, random_state=rnd_num)\n",
        "Disgust_test = Disgust.drop(Disgust_train.index)\n",
        "\n",
        "train = pd.concat([Fear_train,Surprise_train,Anger_train,Sad_train,Neutral_train,Happy_train,Disgust_train])\n",
        "test = pd.concat([Fear_test,Surprise_test,Anger_test,Sad_test,Neutral_test,Happy_test,Disgust_test])"
      ],
      "execution_count": 0,
      "outputs": []
    },
    {
      "cell_type": "code",
      "metadata": {
        "id": "rkSR1t9Uc0p6",
        "colab_type": "code",
        "colab": {}
      },
      "source": [
        "from soynlp.tokenizer import MaxScoreTokenizer\n",
        "from soynlp.normalizer import *\n",
        "import re\n",
        "from konlpy.tag import Okt\n",
        "\n",
        "def tokenizer(text): # create a tokenizer function\n",
        "    okt = Okt()\n",
        "    text = only_hangle(text)\n",
        "    text = repeat_normalize(text, num_repeats = 2)\n",
        "    x = okt.morphs(text , stem= True)\n",
        "    return x"
      ],
      "execution_count": 0,
      "outputs": []
    },
    {
      "cell_type": "code",
      "metadata": {
        "id": "Hyp-WeQwc7Va",
        "colab_type": "code",
        "colab": {}
      },
      "source": [
        "stop_words_set = pd.read_csv(path+'stopwords100.txt',header = 0, delimiter = '\\t', quoting = 3)\n",
        "stop_words= (list(stop_words_set['aa']))\n",
        "stop_words2 = ['은', '는', '이', '가', '하', '아', '것', '들','의', '있', '되', '수', '보', '주', '등', '한']\n",
        "stop_words.extend(stop_words)"
      ],
      "execution_count": 0,
      "outputs": []
    },
    {
      "cell_type": "code",
      "metadata": {
        "id": "Sol6JTLac8WS",
        "colab_type": "code",
        "colab": {}
      },
      "source": [
        "import torch\n",
        "from torchtext import data\n",
        "from torchtext import datasets\n",
        "from soynlp.tokenizer import MaxScoreTokenizer\n",
        "SEED = 3432\n",
        "\n",
        "torch.manual_seed(SEED)\n",
        "torch.backends.cudnn.deterministic = True\n",
        "\n",
        "\n",
        "TEXT = data.Field(tokenize=tokenizer, stop_words = stop_words)\n",
        "LABEL = data.LabelField()"
      ],
      "execution_count": 0,
      "outputs": []
    },
    {
      "cell_type": "code",
      "metadata": {
        "id": "TrSklEXuc-sC",
        "colab_type": "code",
        "colab": {}
      },
      "source": [
        "from torch.utils.data import TensorDataset, DataLoader, RandomSampler, SequentialSampler\n",
        "from sklearn.model_selection import train_test_split"
      ],
      "execution_count": 0,
      "outputs": []
    },
    {
      "cell_type": "markdown",
      "metadata": {
        "id": "RYaytomBdKTK",
        "colab_type": "text"
      },
      "source": [
        "# Naive Bayes"
      ]
    },
    {
      "cell_type": "code",
      "metadata": {
        "id": "kYpMVI9ac_ay",
        "colab_type": "code",
        "colab": {}
      },
      "source": [
        "from sklearn.feature_extraction.text import CountVectorizer\n",
        "from sklearn.feature_extraction.text import TfidfTransformer\n",
        "from sklearn.naive_bayes import MultinomialNB # 다항분포 나이브 베이즈 모델\n",
        "from sklearn.metrics import accuracy_score #정확도 계산"
      ],
      "execution_count": 0,
      "outputs": []
    },
    {
      "cell_type": "code",
      "metadata": {
        "id": "j_ixNllFeiWi",
        "colab_type": "code",
        "outputId": "0c6d8639-61e2-4e70-9912-17fb990e3730",
        "colab": {
          "base_uri": "https://localhost:8080/",
          "height": 33
        }
      },
      "source": [
        "dtmvector = CountVectorizer()\n",
        "X_train_dtm = dtmvector.fit_transform(train_set['Sentence'])\n",
        "print(X_train_dtm.shape)"
      ],
      "execution_count": 0,
      "outputs": [
        {
          "output_type": "stream",
          "text": [
            "(27016, 70785)\n"
          ],
          "name": "stdout"
        }
      ]
    },
    {
      "cell_type": "code",
      "metadata": {
        "id": "DEOjKmPUiyzU",
        "colab_type": "code",
        "outputId": "0d639b15-ce4b-456e-97fc-2f7b2fa5a2c9",
        "colab": {
          "base_uri": "https://localhost:8080/",
          "height": 33
        }
      },
      "source": [
        "tfidf_transformer = TfidfTransformer()\n",
        "tfidfv = tfidf_transformer.fit_transform(X_train_dtm)\n",
        "print(X_train_dtm.shape)"
      ],
      "execution_count": 0,
      "outputs": [
        {
          "output_type": "stream",
          "text": [
            "(27016, 70785)\n"
          ],
          "name": "stdout"
        }
      ]
    },
    {
      "cell_type": "code",
      "metadata": {
        "id": "DBuebgzQme6P",
        "colab_type": "code",
        "colab": {}
      },
      "source": [
        "X_train = train_set['Sentence']\n",
        "X_test = test_set['Sentence']\n",
        "Y_train = train_set['Emotion']\n",
        "Y_test = test_set['Emotion']\n",
        "label_total = df['Emotion']"
      ],
      "execution_count": 0,
      "outputs": []
    },
    {
      "cell_type": "code",
      "metadata": {
        "id": "3Y_y8FOFm0yo",
        "colab_type": "code",
        "colab": {}
      },
      "source": [
        "train_sentence = Y_train.to_list()\n",
        "test_sentence = Y_test.to_list()"
      ],
      "execution_count": 0,
      "outputs": []
    },
    {
      "cell_type": "code",
      "metadata": {
        "id": "pYHe1aAypCcr",
        "colab_type": "code",
        "outputId": "b8acf6a7-0200-48ca-cd8a-0a539624ae86",
        "colab": {
          "base_uri": "https://localhost:8080/",
          "height": 33
        }
      },
      "source": [
        "len(train_sentence)"
      ],
      "execution_count": 0,
      "outputs": [
        {
          "output_type": "execute_result",
          "data": {
            "text/plain": [
              "27016"
            ]
          },
          "metadata": {
            "tags": []
          },
          "execution_count": 58
        }
      ]
    },
    {
      "cell_type": "code",
      "metadata": {
        "id": "FV_zURKRjy1g",
        "colab_type": "code",
        "outputId": "09bb3533-cf21-4257-d4f7-cda07247e3ff",
        "colab": {
          "base_uri": "https://localhost:8080/",
          "height": 33
        }
      },
      "source": [
        "mod = MultinomialNB()\n",
        "mod.fit(tfidfv, train_sentence)"
      ],
      "execution_count": 0,
      "outputs": [
        {
          "output_type": "execute_result",
          "data": {
            "text/plain": [
              "MultinomialNB(alpha=1.0, class_prior=None, fit_prior=True)"
            ]
          },
          "metadata": {
            "tags": []
          },
          "execution_count": 59
        }
      ]
    },
    {
      "cell_type": "code",
      "metadata": {
        "id": "3qfreWGCq3KU",
        "colab_type": "code",
        "outputId": "5c663a93-d735-47bf-99a7-05ac01b17a5d",
        "colab": {
          "base_uri": "https://localhost:8080/",
          "height": 33
        }
      },
      "source": [
        "X_test_dtm = dtmvector.transform(test_set['Sentence']) #테스트 데이터를 DTM으로 변환\n",
        "tfidfv_test = tfidf_transformer.transform(X_test_dtm) #DTM을 TF-IDF 행렬로 변환\n",
        "\n",
        "predicted = mod.predict(tfidfv_test) #테스트 데이터에 대한 예측\n",
        "print(\"정확도:\", accuracy_score(test_sentence, predicted)) #예측값과 실제값 비교"
      ],
      "execution_count": 0,
      "outputs": [
        {
          "output_type": "stream",
          "text": [
            "정확도: 0.37122128174123337\n"
          ],
          "name": "stdout"
        }
      ]
    },
    {
      "cell_type": "code",
      "metadata": {
        "id": "-pg5Gx8eroSN",
        "colab_type": "code",
        "colab": {}
      },
      "source": [
        "#추가적으로 감정별로 정확도 차이를 비교해봐도 좋을듯?"
      ],
      "execution_count": 0,
      "outputs": []
    }
  ]
}
