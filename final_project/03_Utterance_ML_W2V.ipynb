{
  "nbformat": 4,
  "nbformat_minor": 0,
  "metadata": {
    "colab": {
      "name": "Utterance_ML_W2V",
      "provenance": [],
      "collapsed_sections": [],
      "authorship_tag": "ABX9TyOpCcaj5EBlM43nfvBrc+0b",
      "include_colab_link": true
    },
    "kernelspec": {
      "name": "python3",
      "display_name": "Python 3"
    },
    "accelerator": "GPU"
  },
  "cells": [
    {
      "cell_type": "markdown",
      "metadata": {
        "id": "view-in-github",
        "colab_type": "text"
      },
      "source": [
        "<a href=\"https://colab.research.google.com/github/kwanglo/mge51101-20195171/blob/master/final_project/03_Utterance_ML_W2V.ipynb\" target=\"_parent\"><img src=\"https://colab.research.google.com/assets/colab-badge.svg\" alt=\"Open In Colab\"/></a>"
      ]
    },
    {
      "cell_type": "markdown",
      "metadata": {
        "id": "XGjq3cn26J8f",
        "colab_type": "text"
      },
      "source": [
        "# **Utterance classification using machine learning**\n",
        "\n",
        "In this section, we will build utterance classification models using machine learning techniques. <br>\n",
        "<br>\n",
        "**Applied embedding :** fastText Korean ver. using wikipedia<br>\n",
        "Applied vectorizer : <br>\n",
        "Count Vector, TF-IDF, Ngram, Character level TF-IDF\n",
        "<br>\n",
        "\n",
        "**Applied machine learning model :** <br>\n",
        "Naive Bayes, Logistic Regression, Support Vector Machine, Random Forest\n",
        "<br>\n",
        "\n",
        "**Reference** <br>\n",
        "\n",
        "\n"
      ]
    },
    {
      "cell_type": "markdown",
      "metadata": {
        "id": "V-w7T_1u7ob1",
        "colab_type": "text"
      },
      "source": [
        "1. Link to google drive\n",
        "2. Import required libraries\n",
        "3. Load prepared dataset\n",
        "4. Divide into train, valid, test set"
      ]
    },
    {
      "cell_type": "code",
      "metadata": {
        "id": "qkchLDVyGZT2",
        "colab_type": "code",
        "colab": {
          "base_uri": "https://localhost:8080/",
          "height": 127
        },
        "outputId": "be8a5197-762e-41e7-9e40-16d4ba39acc4"
      },
      "source": [
        "from google.colab import drive\n",
        "drive.mount('/gdrive', force_remount=True)"
      ],
      "execution_count": 1,
      "outputs": [
        {
          "output_type": "stream",
          "text": [
            "Go to this URL in a browser: https://accounts.google.com/o/oauth2/auth?client_id=947318989803-6bn6qk8qdgf4n4g3pfee6491hc0brc4i.apps.googleusercontent.com&redirect_uri=urn%3aietf%3awg%3aoauth%3a2.0%3aoob&response_type=code&scope=email%20https%3a%2f%2fwww.googleapis.com%2fauth%2fdocs.test%20https%3a%2f%2fwww.googleapis.com%2fauth%2fdrive%20https%3a%2f%2fwww.googleapis.com%2fauth%2fdrive.photos.readonly%20https%3a%2f%2fwww.googleapis.com%2fauth%2fpeopleapi.readonly\n",
            "\n",
            "Enter your authorization code:\n",
            "··········\n",
            "Mounted at /gdrive\n"
          ],
          "name": "stdout"
        }
      ]
    },
    {
      "cell_type": "code",
      "metadata": {
        "id": "gSJ9GlOVG_4_",
        "colab_type": "code",
        "colab": {}
      },
      "source": [
        "!pip3 install konlpy\n",
        "!pip3 install soynlp"
      ],
      "execution_count": null,
      "outputs": []
    },
    {
      "cell_type": "code",
      "metadata": {
        "id": "oa_YsxZ8G3sC",
        "colab_type": "code",
        "colab": {
          "base_uri": "https://localhost:8080/",
          "height": 35
        },
        "outputId": "398ea41b-c2ff-424f-f68b-08daa1fa3979"
      },
      "source": [
        "from sklearn import model_selection, preprocessing, linear_model, naive_bayes, metrics, svm\n",
        "from sklearn.feature_extraction.text import TfidfVectorizer, CountVectorizer\n",
        "from sklearn import decomposition, ensemble\n",
        "\n",
        "import xgboost, string\n",
        "import pandas as pd\n",
        "import numpy as np\n",
        "from keras.preprocessing import text, sequence\n",
        "from keras import layers, models, optimizers"
      ],
      "execution_count": 3,
      "outputs": [
        {
          "output_type": "stream",
          "text": [
            "Using TensorFlow backend.\n"
          ],
          "name": "stderr"
        }
      ]
    },
    {
      "cell_type": "code",
      "metadata": {
        "id": "olBIKYKNGtDw",
        "colab_type": "code",
        "colab": {}
      },
      "source": [
        "path='/gdrive/My Drive/Colab Notebooks/Final Project/dataset/'\n",
        "rnd_num = 2020\n",
        "\n",
        "train = pd.read_csv(path+\"fci_train.csv\")\n",
        "valid_data = train.sample(frac=0.3, random_state=rnd_num)\n",
        "train_data = train.drop(valid_data.index)\n",
        "test_data = pd.read_csv(path+\"fci_test.csv\")"
      ],
      "execution_count": 10,
      "outputs": []
    },
    {
      "cell_type": "code",
      "metadata": {
        "id": "RyUnYjE9HHSF",
        "colab_type": "code",
        "colab": {
          "base_uri": "https://localhost:8080/",
          "height": 142
        },
        "outputId": "37bdd283-c79c-4568-9156-44fcfd927eaa"
      },
      "source": [
        "valid_data.head(3)"
      ],
      "execution_count": 11,
      "outputs": [
        {
          "output_type": "execute_result",
          "data": {
            "text/html": [
              "<div>\n",
              "<style scoped>\n",
              "    .dataframe tbody tr th:only-of-type {\n",
              "        vertical-align: middle;\n",
              "    }\n",
              "\n",
              "    .dataframe tbody tr th {\n",
              "        vertical-align: top;\n",
              "    }\n",
              "\n",
              "    .dataframe thead th {\n",
              "        text-align: right;\n",
              "    }\n",
              "</style>\n",
              "<table border=\"1\" class=\"dataframe\">\n",
              "  <thead>\n",
              "    <tr style=\"text-align: right;\">\n",
              "      <th></th>\n",
              "      <th>label</th>\n",
              "      <th>text</th>\n",
              "    </tr>\n",
              "  </thead>\n",
              "  <tbody>\n",
              "    <tr>\n",
              "      <th>13746</th>\n",
              "      <td>1</td>\n",
              "      <td>저도 곧 주부가</td>\n",
              "    </tr>\n",
              "    <tr>\n",
              "      <th>28756</th>\n",
              "      <td>2</td>\n",
              "      <td>동해와 남해 중</td>\n",
              "    </tr>\n",
              "    <tr>\n",
              "      <th>4996</th>\n",
              "      <td>1</td>\n",
              "      <td>규정 속도를 지키</td>\n",
              "    </tr>\n",
              "  </tbody>\n",
              "</table>\n",
              "</div>"
            ],
            "text/plain": [
              "       label       text\n",
              "13746      1   저도 곧 주부가\n",
              "28756      2   동해와 남해 중\n",
              "4996       1  규정 속도를 지키"
            ]
          },
          "metadata": {
            "tags": []
          },
          "execution_count": 11
        }
      ]
    },
    {
      "cell_type": "code",
      "metadata": {
        "id": "t5ev-oPaBrR3",
        "colab_type": "code",
        "colab": {
          "base_uri": "https://localhost:8080/",
          "height": 297
        },
        "outputId": "26594c2a-88d4-4d7c-e7a3-c87ae506be8f"
      },
      "source": [
        "valid_data.groupby('label').count()"
      ],
      "execution_count": 12,
      "outputs": [
        {
          "output_type": "execute_result",
          "data": {
            "text/html": [
              "<div>\n",
              "<style scoped>\n",
              "    .dataframe tbody tr th:only-of-type {\n",
              "        vertical-align: middle;\n",
              "    }\n",
              "\n",
              "    .dataframe tbody tr th {\n",
              "        vertical-align: top;\n",
              "    }\n",
              "\n",
              "    .dataframe thead th {\n",
              "        text-align: right;\n",
              "    }\n",
              "</style>\n",
              "<table border=\"1\" class=\"dataframe\">\n",
              "  <thead>\n",
              "    <tr style=\"text-align: right;\">\n",
              "      <th></th>\n",
              "      <th>text</th>\n",
              "    </tr>\n",
              "    <tr>\n",
              "      <th>label</th>\n",
              "      <th></th>\n",
              "    </tr>\n",
              "  </thead>\n",
              "  <tbody>\n",
              "    <tr>\n",
              "      <th>0</th>\n",
              "      <td>1635</td>\n",
              "    </tr>\n",
              "    <tr>\n",
              "      <th>1</th>\n",
              "      <td>4960</td>\n",
              "    </tr>\n",
              "    <tr>\n",
              "      <th>2</th>\n",
              "      <td>4804</td>\n",
              "    </tr>\n",
              "    <tr>\n",
              "      <th>3</th>\n",
              "      <td>3494</td>\n",
              "    </tr>\n",
              "    <tr>\n",
              "      <th>4</th>\n",
              "      <td>487</td>\n",
              "    </tr>\n",
              "    <tr>\n",
              "      <th>5</th>\n",
              "      <td>302</td>\n",
              "    </tr>\n",
              "    <tr>\n",
              "      <th>6</th>\n",
              "      <td>858</td>\n",
              "    </tr>\n",
              "  </tbody>\n",
              "</table>\n",
              "</div>"
            ],
            "text/plain": [
              "       text\n",
              "label      \n",
              "0      1635\n",
              "1      4960\n",
              "2      4804\n",
              "3      3494\n",
              "4       487\n",
              "5       302\n",
              "6       858"
            ]
          },
          "metadata": {
            "tags": []
          },
          "execution_count": 12
        }
      ]
    },
    {
      "cell_type": "code",
      "metadata": {
        "id": "uYZ37bn3HV-K",
        "colab_type": "code",
        "colab": {}
      },
      "source": [
        "train_x, train_y = train_data['text'], train_data['label']\n",
        "valid_x, valid_y = valid_data['text'], valid_data['label']\n",
        "test_x, test_y = test_data['text'], test_data['label']"
      ],
      "execution_count": 13,
      "outputs": []
    },
    {
      "cell_type": "markdown",
      "metadata": {
        "id": "5qxtnShL8DCP",
        "colab_type": "text"
      },
      "source": [
        "# Preprocessing before training\n",
        "\n",
        "1. Import vectorizer\n",
        "2. Set stopwords and build clean dataset\n",
        "3. Tokenize dataset\n",
        "4. Import pre-trained embedding from fastText"
      ]
    },
    {
      "cell_type": "code",
      "metadata": {
        "id": "AdeXglYsHYpl",
        "colab_type": "code",
        "colab": {}
      },
      "source": [
        "count_vect = CountVectorizer(analyzer='word', token_pattern=r'\\w{1,}')\n",
        "count_vect.fit(train_data['text'])\n",
        "\n",
        "# transform the training and validation data using count vectorizer object\n",
        "xtrain_count =  count_vect.transform(train_x)\n",
        "xvalid_count =  count_vect.transform(valid_x)\n",
        "xtest_count =  count_vect.transform(test_x)"
      ],
      "execution_count": 19,
      "outputs": []
    },
    {
      "cell_type": "code",
      "metadata": {
        "id": "FTsp4iw8Hccs",
        "colab_type": "code",
        "colab": {
          "base_uri": "https://localhost:8080/",
          "height": 73
        },
        "outputId": "41a8f33b-2bf2-414c-e280-094428b0d7b0"
      },
      "source": [
        "#TF-IDF vectorizer\n",
        "tfidf_vect = TfidfVectorizer(analyzer='word', token_pattern=r'\\w{1,}', max_features=15000)\n",
        "tfidf_vect.fit(train_data['text'])\n",
        "xtrain_tfidf =  tfidf_vect.transform(train_x)\n",
        "xvalid_tfidf =  tfidf_vect.transform(valid_x)\n",
        "xtest_tfidf =  tfidf_vect.transform(test_x)\n",
        "\n",
        "# ngram level tf-idf \n",
        "tfidf_vect_ngram = TfidfVectorizer(analyzer='word', token_pattern=r'\\w{1,}', ngram_range=(2,3), max_features=15000)\n",
        "tfidf_vect_ngram.fit(train_data['text'])\n",
        "xtrain_tfidf_ngram =  tfidf_vect_ngram.transform(train_x)\n",
        "xvalid_tfidf_ngram =  tfidf_vect_ngram.transform(valid_x)\n",
        "xtest_tfidf_ngram =  tfidf_vect_ngram.transform(test_x)\n",
        "\n",
        "# characters level tf-idf\n",
        "tfidf_vect_ngram_chars = TfidfVectorizer(analyzer='char', token_pattern=r'\\w{1,}', ngram_range=(2,3), max_features=15000)\n",
        "tfidf_vect_ngram_chars.fit(train_data['text'])\n",
        "xtrain_tfidf_ngram_chars =  tfidf_vect_ngram_chars.transform(train_x) \n",
        "xvalid_tfidf_ngram_chars =  tfidf_vect_ngram_chars.transform(valid_x)\n",
        "xtest_tfidf_ngram_chars =  tfidf_vect_ngram_chars.transform(test_x)"
      ],
      "execution_count": 20,
      "outputs": [
        {
          "output_type": "stream",
          "text": [
            "/usr/local/lib/python3.6/dist-packages/sklearn/feature_extraction/text.py:524: UserWarning: The parameter 'token_pattern' will not be used since 'analyzer' != 'word'\n",
            "  warnings.warn(\"The parameter 'token_pattern' will not be used\"\n"
          ],
          "name": "stderr"
        }
      ]
    },
    {
      "cell_type": "code",
      "metadata": {
        "id": "bmLWQ2C8Ld7W",
        "colab_type": "code",
        "colab": {}
      },
      "source": [
        "stop_words_set = pd.read_csv(path+'stopwords100.txt',header = 0, delimiter = '\\t', quoting = 3)\n",
        "stop_words= (list(stop_words_set['aa']))\n",
        "stop_words2 = ['은', '는', '이', '가', '하', '아', '것', '들','의', '있', '되', '수', '보', '주', '등', '한']\n",
        "stop_words.extend(stop_words)"
      ],
      "execution_count": 21,
      "outputs": []
    },
    {
      "cell_type": "code",
      "metadata": {
        "id": "aNg66v0_L0nn",
        "colab_type": "code",
        "colab": {}
      },
      "source": [
        "from soynlp.tokenizer import MaxScoreTokenizer\n",
        "from soynlp.normalizer import *\n",
        "import re\n",
        "from konlpy.tag import Okt\n",
        "\n",
        "def preprocessing(text, okt, remove_stopwords = False, stop_words = []):\n",
        "    text = only_hangle(text)\n",
        "    text = repeat_normalize(text, num_repeats = 2)\n",
        "    \n",
        "    text_token = okt.morphs(text, stem = True)\n",
        "    \n",
        "    if remove_stopwords:\n",
        "        text_token = [token for token in text_token if not token in stop_words]\n",
        "        \n",
        "    return text_token"
      ],
      "execution_count": 22,
      "outputs": []
    },
    {
      "cell_type": "code",
      "metadata": {
        "id": "yPxya28gL5Yt",
        "colab_type": "code",
        "colab": {}
      },
      "source": [
        "#Preprocessing - Train and Valid data\n",
        "okt = Okt()\n",
        "clean_train_data = []\n",
        "clean_valid_data = []\n",
        "clean_test_data = []\n",
        "for text in train_data['text']:\n",
        "    if type(text) == str:\n",
        "        clean_train_data.append(preprocessing(text, okt, remove_stopwords = True, stop_words = stop_words))\n",
        "    else:\n",
        "        clean_train_data.append([])\n",
        "        \n",
        "for text in valid_data['text']:\n",
        "    if type(text) == str:\n",
        "        clean_valid_data.append(preprocessing(text, okt, remove_stopwords = True, stop_words = stop_words))\n",
        "    else:\n",
        "        clean_valid_data.append([])\n",
        "        \n",
        "for text in test_data['text']:\n",
        "    if type(text) == str:\n",
        "        clean_test_data.append(preprocessing(text, okt, remove_stopwords = True, stop_words = stop_words))\n",
        "    else:\n",
        "        clean_test_data.append([])"
      ],
      "execution_count": 23,
      "outputs": []
    },
    {
      "cell_type": "code",
      "metadata": {
        "id": "F5stG-yqQCug",
        "colab_type": "code",
        "colab": {}
      },
      "source": [
        "from tensorflow.python.keras.preprocessing.text import Tokenizer\n",
        "from tensorflow.python.keras.preprocessing.sequence import pad_sequences\n",
        "tokenizer = Tokenizer()\n",
        "tokenizer.fit_on_texts(clean_train_data)\n",
        "train_sequences = tokenizer.texts_to_sequences(clean_train_data)\n",
        "valid_sequences = tokenizer.texts_to_sequences(clean_valid_data)\n",
        "test_sequences = tokenizer.texts_to_sequences(clean_test_data)\n",
        "\n",
        "word_index = tokenizer.word_index\n",
        "\n",
        "MAX_SEQUENCE_LENGTH = 70"
      ],
      "execution_count": 24,
      "outputs": []
    },
    {
      "cell_type": "code",
      "metadata": {
        "id": "Aha_MU0XQGbm",
        "colab_type": "code",
        "colab": {}
      },
      "source": [
        "embeddings_index = {}\n",
        "for i, line in enumerate(open(path+'wiki.ko.vec')):\n",
        "    values = line.split()\n",
        "    embeddings_index[values[0]] = np.asarray(values[1:], dtype='float32')\n",
        "    \n",
        "    \n",
        "embedding_matrix = np.zeros((len(word_index) + 1, 300))\n",
        "for word, i in word_index.items():\n",
        "    embedding_vector = embeddings_index.get(word)\n",
        "    if embedding_vector is not None:\n",
        "        embedding_matrix[i] = embedding_vector"
      ],
      "execution_count": 25,
      "outputs": []
    },
    {
      "cell_type": "markdown",
      "metadata": {
        "id": "x-pVzZAI8xRr",
        "colab_type": "text"
      },
      "source": [
        "# Model building\n",
        "\n",
        "1. Set train and test models\n",
        "2. Get machine learning models from scikit learn\n",
        "3. Train!"
      ]
    },
    {
      "cell_type": "code",
      "metadata": {
        "id": "TBp9ZWfDQTQ3",
        "colab_type": "code",
        "colab": {}
      },
      "source": [
        "# 기존 모델\n",
        "def train_model(classifier, feature_vector_train, label, feature_vector_valid):\n",
        "    # fit the training dataset on the classifier\n",
        "    classifier.fit(feature_vector_train, label)\n",
        "    \n",
        "    # predict the labels on validation dataset\n",
        "    predictions = classifier.predict(feature_vector_valid)\n",
        "\n",
        "    return metrics.accuracy_score(predictions, valid_y)"
      ],
      "execution_count": 26,
      "outputs": []
    },
    {
      "cell_type": "code",
      "metadata": {
        "id": "_XM37oHXauiA",
        "colab_type": "code",
        "colab": {}
      },
      "source": [
        "# From other reference\n",
        "def test_model(classifier, X_train, y_train, X_test):\n",
        "  \n",
        "  classifier.fit(X_train, y_train)\n",
        "  y_pred = classifier.predict(X_test)\n",
        "\n",
        "  return metrics.accuracy_score(y_pred, test_y)"
      ],
      "execution_count": 27,
      "outputs": []
    },
    {
      "cell_type": "code",
      "metadata": {
        "id": "PyMAeLC8SDle",
        "colab_type": "code",
        "colab": {}
      },
      "source": [
        "from sklearn.naive_bayes import MultinomialNB\n",
        "from sklearn.linear_model import LogisticRegression\n",
        "from sklearn.svm import SVC\n",
        "from sklearn.ensemble import RandomForestClassifier\n",
        "from sklearn.datasets import make_classification"
      ],
      "execution_count": 28,
      "outputs": []
    },
    {
      "cell_type": "code",
      "metadata": {
        "id": "PAM7AjzlY-HG",
        "colab_type": "code",
        "colab": {}
      },
      "source": [
        "from sklearn.metrics import precision_recall_fscore_support\n",
        "from sklearn.metrics import accuracy_score\n",
        "from sklearn.metrics import confusion_matrix"
      ],
      "execution_count": 29,
      "outputs": []
    },
    {
      "cell_type": "code",
      "metadata": {
        "id": "-hl99HgXRzf3",
        "colab_type": "code",
        "colab": {
          "base_uri": "https://localhost:8080/",
          "height": 233
        },
        "outputId": "9b4ad802-2bad-40df-e119-205b0fcbb1a9"
      },
      "source": [
        "# Naive Bayes on Count Vectors\n",
        "valid_accuracy = train_model(naive_bayes.MultinomialNB(), xtrain_count, train_y, xvalid_count)\n",
        "test_accuracy = test_model(naive_bayes.MultinomialNB(), xtrain_count, train_y, xtest_count)\n",
        "\n",
        "print(\"NB, Count Vectors Accuracy\")\n",
        "print(\"Validation Accuracy: \", valid_accuracy)\n",
        "print(\"Test Accuracy: \", test_accuracy)\n",
        "\n",
        "# Naive Bayes on Word Level TF IDF Vectors\n",
        "valid_accuracy = train_model(naive_bayes.MultinomialNB(), xtrain_tfidf, train_y, xvalid_tfidf)\n",
        "test_accuracy = test_model(naive_bayes.MultinomialNB(), xtrain_tfidf, train_y, xtest_tfidf)\n",
        "print(\"NB, WordLevel TF-IDF\")\n",
        "print(\"Validation Accuracy: \", valid_accuracy)\n",
        "print(\"Test Accuracy: \", test_accuracy)\n",
        "\n",
        "# Naive Bayes on Ngram Level TF IDF Vectors\n",
        "valid_accuracy = train_model(naive_bayes.MultinomialNB(), xtrain_tfidf_ngram, train_y, xvalid_tfidf_ngram)\n",
        "test_accuracy = test_model(naive_bayes.MultinomialNB(), xtrain_tfidf_ngram, train_y, xtest_tfidf_ngram)\n",
        "print(\"NB, N-Gram Vectors\")\n",
        "print(\"Validation Accuracy: \", valid_accuracy)\n",
        "print(\"Test Accuracy: \", test_accuracy)\n",
        "\n",
        "# Naive Bayes on Character Level TF IDF Vectors\n",
        "valid_accuracy = train_model(naive_bayes.MultinomialNB(), xtrain_tfidf_ngram_chars, train_y, xvalid_tfidf_ngram_chars)\n",
        "test_accuracy = test_model(naive_bayes.MultinomialNB(), xtrain_tfidf_ngram_chars, train_y, xtest_tfidf_ngram_chars)\n",
        "print(\"NB, CharLevel Vectors\")\n",
        "print(\"Validation Accuracy: \", valid_accuracy)\n",
        "print(\"Test Accuracy: \", test_accuracy)"
      ],
      "execution_count": 30,
      "outputs": [
        {
          "output_type": "stream",
          "text": [
            "NB, Count Vectors Accuracy\n",
            "Validation Accuracy:  0.5965538089480048\n",
            "Test Accuracy:  0.5706583891520993\n",
            "NB, WordLevel TF-IDF\n",
            "Validation Accuracy:  0.5854897218863362\n",
            "Test Accuracy:  0.5618363012579644\n",
            "NB, N-Gram Vectors\n",
            "Validation Accuracy:  0.469770253929867\n",
            "Test Accuracy:  0.4378369547459565\n",
            "NB, CharLevel Vectors\n",
            "Validation Accuracy:  0.6064087061668681\n",
            "Test Accuracy:  0.5843816369874204\n"
          ],
          "name": "stdout"
        }
      ]
    },
    {
      "cell_type": "markdown",
      "metadata": {
        "id": "CzqABsj49BUZ",
        "colab_type": "text"
      },
      "source": [
        "After training, f1-score and confusion matrix was tested as mentioned in proposal."
      ]
    },
    {
      "cell_type": "code",
      "metadata": {
        "id": "eZdMBxyyk_D9",
        "colab_type": "code",
        "colab": {}
      },
      "source": [
        "def f_scores(classifier, X_train, y_train, X_test):\n",
        "  \n",
        "  classifier.fit(X_train, y_train)\n",
        "  y_pred = classifier.predict(X_test)\n",
        "\n",
        "  return y_pred"
      ],
      "execution_count": 31,
      "outputs": []
    },
    {
      "cell_type": "code",
      "metadata": {
        "id": "aA9U_s87Xzwd",
        "colab_type": "code",
        "colab": {
          "base_uri": "https://localhost:8080/",
          "height": 35
        },
        "outputId": "87eff37f-9bb0-46a5-af6e-00f541b57b06"
      },
      "source": [
        "#F1-score \n",
        "y_pred = f_scores(naive_bayes.MultinomialNB(), xtrain_tfidf_ngram_chars, train_y, xtest_tfidf_ngram_chars)\n",
        "\n",
        "precision_recall_fscore_support(test_y, y_pred, average='weighted')\n",
        "#Precision / Recall / F1_score"
      ],
      "execution_count": 32,
      "outputs": [
        {
          "output_type": "execute_result",
          "data": {
            "text/plain": [
              "(0.6356099106975589, 0.5843816369874204, 0.5426524287039687, None)"
            ]
          },
          "metadata": {
            "tags": []
          },
          "execution_count": 32
        }
      ]
    },
    {
      "cell_type": "code",
      "metadata": {
        "id": "lJH5JbaRkDce",
        "colab_type": "code",
        "colab": {
          "base_uri": "https://localhost:8080/",
          "height": 143
        },
        "outputId": "8fd25392-f260-4c9c-cb60-af1faeba1f2d"
      },
      "source": [
        "#Confusion Matrix\n",
        "confusion_matrix(test_y, y_pred)"
      ],
      "execution_count": 36,
      "outputs": [
        {
          "output_type": "execute_result",
          "data": {
            "text/plain": [
              "array([[  21,  485,   66,   26,    0,    1,    1],\n",
              "       [   3, 1518,  210,   90,    1,    1,    7],\n",
              "       [   0,  244, 1285,  253,    2,    0,    2],\n",
              "       [   1,  324,  352,  618,    0,    1,    0],\n",
              "       [   1,  130,   23,    3,   13,    0,    4],\n",
              "       [   0,   70,   14,    6,    0,   18,    0],\n",
              "       [   0,  160,   41,   21,    0,    1,  104]])"
            ]
          },
          "metadata": {
            "tags": []
          },
          "execution_count": 36
        }
      ]
    },
    {
      "cell_type": "code",
      "metadata": {
        "id": "9wRDvjGNSJXa",
        "colab_type": "code",
        "colab": {
          "base_uri": "https://localhost:8080/",
          "height": 1000
        },
        "outputId": "c46974e7-d012-43af-9c9b-91c47ead77eb"
      },
      "source": [
        "# Linear Classifier on Count Vectors\n",
        "valid_accuracy = train_model(linear_model.LogisticRegression(), xtrain_count, train_y, xvalid_count)\n",
        "test_accuracy = test_model(linear_model.LogisticRegression(), xtrain_count, train_y, xtest_count)\n",
        "print(\"LR, Count Vectors\")\n",
        "print(\"Validation Accuracy: \", valid_accuracy)\n",
        "print(\"Test Accuracy: \", test_accuracy)\n",
        "\n",
        "# Linear Classifier on Word Level TF IDF Vectors\n",
        "valid_accuracy = train_model(linear_model.LogisticRegression(), xtrain_tfidf, train_y, xvalid_tfidf)\n",
        "test_accuracy = test_model(linear_model.LogisticRegression(), xtrain_tfidf, train_y, xtest_tfidf)\n",
        "print(\"NB, CharLevel Vectors\")\n",
        "print(\"Validation Accuracy: \", valid_accuracy)\n",
        "print(\"Test Accuracy: \", test_accuracy)\n",
        "\n",
        "# Linear Classifier on Ngram Level TF IDF Vectors\n",
        "valid_accuracy = train_model(linear_model.LogisticRegression(), xtrain_tfidf_ngram, train_y, xvalid_tfidf_ngram)\n",
        "test_accuracy = test_model(linear_model.LogisticRegression(), xtrain_tfidf_ngram, train_y, xtest_tfidf_ngram)\n",
        "\n",
        "print(\"LR, N-Gram Vectors\")\n",
        "print(\"Validation Accuracy: \", valid_accuracy)\n",
        "print(\"Test Accuracy: \", test_accuracy)\n",
        "\n",
        "# Linear Classifier on Character Level TF IDF Vectors\n",
        "valid_accuracy = train_model(linear_model.LogisticRegression(), xtrain_tfidf_ngram_chars, train_y, xvalid_tfidf_ngram_chars)\n",
        "test_accuracy = test_model(linear_model.LogisticRegression(), xtrain_tfidf_ngram_chars, train_y, xtest_tfidf_ngram_chars)\n",
        "print(\"LR, CharLevel Vectors\")\n",
        "print(\"Validation Accuracy: \", valid_accuracy)\n",
        "print(\"Test Accuracy: \", test_accuracy)"
      ],
      "execution_count": 33,
      "outputs": [
        {
          "output_type": "stream",
          "text": [
            "/usr/local/lib/python3.6/dist-packages/sklearn/linear_model/_logistic.py:940: ConvergenceWarning: lbfgs failed to converge (status=1):\n",
            "STOP: TOTAL NO. of ITERATIONS REACHED LIMIT.\n",
            "\n",
            "Increase the number of iterations (max_iter) or scale the data as shown in:\n",
            "    https://scikit-learn.org/stable/modules/preprocessing.html\n",
            "Please also refer to the documentation for alternative solver options:\n",
            "    https://scikit-learn.org/stable/modules/linear_model.html#logistic-regression\n",
            "  extra_warning_msg=_LOGISTIC_SOLVER_CONVERGENCE_MSG)\n",
            "/usr/local/lib/python3.6/dist-packages/sklearn/linear_model/_logistic.py:940: ConvergenceWarning: lbfgs failed to converge (status=1):\n",
            "STOP: TOTAL NO. of ITERATIONS REACHED LIMIT.\n",
            "\n",
            "Increase the number of iterations (max_iter) or scale the data as shown in:\n",
            "    https://scikit-learn.org/stable/modules/preprocessing.html\n",
            "Please also refer to the documentation for alternative solver options:\n",
            "    https://scikit-learn.org/stable/modules/linear_model.html#logistic-regression\n",
            "  extra_warning_msg=_LOGISTIC_SOLVER_CONVERGENCE_MSG)\n"
          ],
          "name": "stderr"
        },
        {
          "output_type": "stream",
          "text": [
            "LR, Count Vectors\n",
            "Validation Accuracy:  0.6105199516324062\n",
            "Test Accuracy:  0.5704950171540598\n"
          ],
          "name": "stdout"
        },
        {
          "output_type": "stream",
          "text": [
            "/usr/local/lib/python3.6/dist-packages/sklearn/linear_model/_logistic.py:940: ConvergenceWarning: lbfgs failed to converge (status=1):\n",
            "STOP: TOTAL NO. of ITERATIONS REACHED LIMIT.\n",
            "\n",
            "Increase the number of iterations (max_iter) or scale the data as shown in:\n",
            "    https://scikit-learn.org/stable/modules/preprocessing.html\n",
            "Please also refer to the documentation for alternative solver options:\n",
            "    https://scikit-learn.org/stable/modules/linear_model.html#logistic-regression\n",
            "  extra_warning_msg=_LOGISTIC_SOLVER_CONVERGENCE_MSG)\n",
            "/usr/local/lib/python3.6/dist-packages/sklearn/linear_model/_logistic.py:940: ConvergenceWarning: lbfgs failed to converge (status=1):\n",
            "STOP: TOTAL NO. of ITERATIONS REACHED LIMIT.\n",
            "\n",
            "Increase the number of iterations (max_iter) or scale the data as shown in:\n",
            "    https://scikit-learn.org/stable/modules/preprocessing.html\n",
            "Please also refer to the documentation for alternative solver options:\n",
            "    https://scikit-learn.org/stable/modules/linear_model.html#logistic-regression\n",
            "  extra_warning_msg=_LOGISTIC_SOLVER_CONVERGENCE_MSG)\n"
          ],
          "name": "stderr"
        },
        {
          "output_type": "stream",
          "text": [
            "NB, CharLevel Vectors\n",
            "Validation Accuracy:  0.5984280532043531\n",
            "Test Accuracy:  0.5713118771442575\n"
          ],
          "name": "stdout"
        },
        {
          "output_type": "stream",
          "text": [
            "/usr/local/lib/python3.6/dist-packages/sklearn/linear_model/_logistic.py:940: ConvergenceWarning: lbfgs failed to converge (status=1):\n",
            "STOP: TOTAL NO. of ITERATIONS REACHED LIMIT.\n",
            "\n",
            "Increase the number of iterations (max_iter) or scale the data as shown in:\n",
            "    https://scikit-learn.org/stable/modules/preprocessing.html\n",
            "Please also refer to the documentation for alternative solver options:\n",
            "    https://scikit-learn.org/stable/modules/linear_model.html#logistic-regression\n",
            "  extra_warning_msg=_LOGISTIC_SOLVER_CONVERGENCE_MSG)\n",
            "/usr/local/lib/python3.6/dist-packages/sklearn/linear_model/_logistic.py:940: ConvergenceWarning: lbfgs failed to converge (status=1):\n",
            "STOP: TOTAL NO. of ITERATIONS REACHED LIMIT.\n",
            "\n",
            "Increase the number of iterations (max_iter) or scale the data as shown in:\n",
            "    https://scikit-learn.org/stable/modules/preprocessing.html\n",
            "Please also refer to the documentation for alternative solver options:\n",
            "    https://scikit-learn.org/stable/modules/linear_model.html#logistic-regression\n",
            "  extra_warning_msg=_LOGISTIC_SOLVER_CONVERGENCE_MSG)\n"
          ],
          "name": "stderr"
        },
        {
          "output_type": "stream",
          "text": [
            "LR, N-Gram Vectors\n",
            "Validation Accuracy:  0.4741837968561064\n",
            "Test Accuracy:  0.43832707074007515\n"
          ],
          "name": "stdout"
        },
        {
          "output_type": "stream",
          "text": [
            "/usr/local/lib/python3.6/dist-packages/sklearn/linear_model/_logistic.py:940: ConvergenceWarning: lbfgs failed to converge (status=1):\n",
            "STOP: TOTAL NO. of ITERATIONS REACHED LIMIT.\n",
            "\n",
            "Increase the number of iterations (max_iter) or scale the data as shown in:\n",
            "    https://scikit-learn.org/stable/modules/preprocessing.html\n",
            "Please also refer to the documentation for alternative solver options:\n",
            "    https://scikit-learn.org/stable/modules/linear_model.html#logistic-regression\n",
            "  extra_warning_msg=_LOGISTIC_SOLVER_CONVERGENCE_MSG)\n"
          ],
          "name": "stderr"
        },
        {
          "output_type": "stream",
          "text": [
            "LR, CharLevel Vectors\n",
            "Validation Accuracy:  0.708645707376058\n",
            "Test Accuracy:  0.6593693840875674\n"
          ],
          "name": "stdout"
        },
        {
          "output_type": "stream",
          "text": [
            "/usr/local/lib/python3.6/dist-packages/sklearn/linear_model/_logistic.py:940: ConvergenceWarning: lbfgs failed to converge (status=1):\n",
            "STOP: TOTAL NO. of ITERATIONS REACHED LIMIT.\n",
            "\n",
            "Increase the number of iterations (max_iter) or scale the data as shown in:\n",
            "    https://scikit-learn.org/stable/modules/preprocessing.html\n",
            "Please also refer to the documentation for alternative solver options:\n",
            "    https://scikit-learn.org/stable/modules/linear_model.html#logistic-regression\n",
            "  extra_warning_msg=_LOGISTIC_SOLVER_CONVERGENCE_MSG)\n"
          ],
          "name": "stderr"
        }
      ]
    },
    {
      "cell_type": "code",
      "metadata": {
        "id": "aq5lQmgLT1kG",
        "colab_type": "code",
        "colab": {
          "base_uri": "https://localhost:8080/",
          "height": 199
        },
        "outputId": "156c32cc-5260-43a2-b611-2fc0956134fe"
      },
      "source": [
        "#F1-score \n",
        "y_pred = f_scores(linear_model.LogisticRegression(), xtrain_tfidf_ngram_chars, train_y, xtest_tfidf_ngram_chars)\n",
        "\n",
        "precision_recall_fscore_support(test_y, y_pred, average='weighted')\n",
        "#Precision / Recall / F1_score"
      ],
      "execution_count": 37,
      "outputs": [
        {
          "output_type": "stream",
          "text": [
            "/usr/local/lib/python3.6/dist-packages/sklearn/linear_model/_logistic.py:940: ConvergenceWarning: lbfgs failed to converge (status=1):\n",
            "STOP: TOTAL NO. of ITERATIONS REACHED LIMIT.\n",
            "\n",
            "Increase the number of iterations (max_iter) or scale the data as shown in:\n",
            "    https://scikit-learn.org/stable/modules/preprocessing.html\n",
            "Please also refer to the documentation for alternative solver options:\n",
            "    https://scikit-learn.org/stable/modules/linear_model.html#logistic-regression\n",
            "  extra_warning_msg=_LOGISTIC_SOLVER_CONVERGENCE_MSG)\n"
          ],
          "name": "stderr"
        },
        {
          "output_type": "execute_result",
          "data": {
            "text/plain": [
              "(0.6673723776924843, 0.6593693840875674, 0.644568252463745, None)"
            ]
          },
          "metadata": {
            "tags": []
          },
          "execution_count": 37
        }
      ]
    },
    {
      "cell_type": "code",
      "metadata": {
        "id": "gaQcMs9ZT1xz",
        "colab_type": "code",
        "colab": {
          "base_uri": "https://localhost:8080/",
          "height": 143
        },
        "outputId": "4995eeaa-dd8a-4cd5-c744-8cbf7493c3b0"
      },
      "source": [
        "#Confusion Matrix\n",
        "confusion_matrix(test_y, y_pred)"
      ],
      "execution_count": 38,
      "outputs": [
        {
          "output_type": "execute_result",
          "data": {
            "text/plain": [
              "array([[ 533,   54,   11,    1,    0,    0,    1],\n",
              "       [  83, 1450,  176,  103,    4,    3,   11],\n",
              "       [  32,  257, 1266,  225,    4,    0,    2],\n",
              "       [  23,  297,  359,  611,    1,    3,    2],\n",
              "       [   7,  109,   19,   12,   21,    0,    6],\n",
              "       [   4,   55,    8,    7,    0,   33,    1],\n",
              "       [  17,  127,   38,   22,    0,    1,  122]])"
            ]
          },
          "metadata": {
            "tags": []
          },
          "execution_count": 38
        }
      ]
    },
    {
      "cell_type": "code",
      "metadata": {
        "id": "aGuMm2m7R1RX",
        "colab_type": "code",
        "colab": {
          "base_uri": "https://localhost:8080/",
          "height": 71
        },
        "outputId": "92dbc5b8-4c93-4aca-db22-acd538dcc065"
      },
      "source": [
        "# SVM on Ngram Level TF IDF Vectors\n",
        "valid_accuracy = train_model(svm.SVC(), xtrain_tfidf_ngram, train_y, xvalid_tfidf_ngram)\n",
        "test_accuracy = test_model(svm.SVC(), xtrain_tfidf_ngram, train_y, xtest_tfidf_ngram)\n",
        "print(\"SVM, N-Gram Vectors\")\n",
        "print(\"Validation Accuracy: \", valid_accuracy)\n",
        "print(\"Test Accuracy: \", test_accuracy)"
      ],
      "execution_count": 34,
      "outputs": [
        {
          "output_type": "stream",
          "text": [
            "SVM, N-Gram Vectors\n",
            "Validation Accuracy:  0.4738210399032648\n",
            "Test Accuracy:  0.43293579480477046\n"
          ],
          "name": "stdout"
        }
      ]
    },
    {
      "cell_type": "code",
      "metadata": {
        "id": "pIXXtfOzTCBo",
        "colab_type": "code",
        "colab": {
          "base_uri": "https://localhost:8080/",
          "height": 125
        },
        "outputId": "8a23b407-061d-4e38-b8cd-08e346981bd0"
      },
      "source": [
        "# RF on Count Vectors\n",
        "valid_accuracy = train_model(ensemble.RandomForestClassifier(), xtrain_count, train_y, xvalid_count)\n",
        "test_accuracy = test_model(ensemble.RandomForestClassifier(), xtrain_count, train_y, xtest_count)\n",
        "print(\"RF, Count Vectors\")\n",
        "print(\"Validation Accuracy: \", valid_accuracy)\n",
        "print(\"Test Accuracy: \", test_accuracy)\n",
        "\n",
        "# RF on Word Level TF IDF Vectors\n",
        "valid_accuracy = train_model(ensemble.RandomForestClassifier(), xtrain_tfidf, train_y, xvalid_tfidf)\n",
        "test_accuracy = test_model(ensemble.RandomForestClassifier(), xtrain_tfidf, train_y, xtest_tfidf)\n",
        "print( \"RF, WordLevel TF-IDF\")\n",
        "print(\"Validation Accuracy: \", valid_accuracy)\n",
        "print(\"Test Accuracy: \", test_accuracy)"
      ],
      "execution_count": 35,
      "outputs": [
        {
          "output_type": "stream",
          "text": [
            "RF, Count Vectors\n",
            "Validation Accuracy:  0.48137847642079806\n",
            "Test Accuracy:  0.42297010292435877\n",
            "RF, WordLevel TF-IDF\n",
            "Validation Accuracy:  0.5992744860943168\n",
            "Test Accuracy:  0.5252409736971083\n"
          ],
          "name": "stdout"
        }
      ]
    },
    {
      "cell_type": "markdown",
      "metadata": {
        "id": "5vpHoMyF9QVa",
        "colab_type": "text"
      },
      "source": [
        "By reviewing all results, Naive Bayes and Logistic Regression using Char-level TF-IDF vectorizer was selected as top 2 accuracy and f1-score."
      ]
    },
    {
      "cell_type": "code",
      "metadata": {
        "id": "6ThpduLDTEgf",
        "colab_type": "code",
        "colab": {}
      },
      "source": [
        ""
      ],
      "execution_count": null,
      "outputs": []
    }
  ]
}